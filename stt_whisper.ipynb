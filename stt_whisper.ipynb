{
  "cells": [
    {
      "cell_type": "code",
      "execution_count": 1,
      "metadata": {
        "colab": {
          "base_uri": "https://localhost:8080/"
        },
        "id": "5t3YrgEI6TPc",
        "outputId": "648804c6-79d8-4aa7-8307-e0f9f9137dfd"
      },
      "outputs": [
        {
          "output_type": "stream",
          "name": "stdout",
          "text": [
            "Mounted at /content/Mydrive\n"
          ]
        }
      ],
      "source": [
        "from google.colab import drive\n",
        "drive.mount('/content/Mydrive')"
      ]
    },
    {
      "cell_type": "code",
      "execution_count": 5,
      "metadata": {
        "colab": {
          "base_uri": "https://localhost:8080/"
        },
        "id": "6z0RtO9M7fxE",
        "outputId": "f6b49a59-c5cf-4e93-f281-a322303c53c1"
      },
      "outputs": [
        {
          "output_type": "stream",
          "name": "stdout",
          "text": [
            "/content/Mydrive/MyDrive\n",
            "\u001b[0m\u001b[01;34m'Colab Notebooks'\u001b[0m/   \u001b[01;34mJeju\u001b[0m/   \u001b[01;34mJeju_aihub\u001b[0m/  'jeju.ipynb의 사본'   \u001b[01;34mtemp\u001b[0m/   제주도_2.tar\n"
          ]
        }
      ],
      "source": [
        "%cd /content/Mydrive/MyDrive\n",
        "%ls"
      ]
    },
    {
      "cell_type": "code",
      "execution_count": null,
      "metadata": {
        "colab": {
          "base_uri": "https://localhost:8080/"
        },
        "id": "j5HPMgsk74tw",
        "outputId": "ff30fa7d-1a2c-463c-b05f-e273de27a349"
      },
      "outputs": [
        {
          "name": "stdout",
          "output_type": "stream",
          "text": [
            "/content/Mydrive/MyDrive/Jeju_aihub\n",
            "\u001b[0m\u001b[01;34mtemp\u001b[0m/  \u001b[01;34munzipped\u001b[0m/\n"
          ]
        }
      ],
      "source": [
        "%cd Jeju_aihub/\n",
        "%pwd\n",
        "%ls"
      ]
    },
    {
      "cell_type": "code",
      "execution_count": 7,
      "metadata": {
        "colab": {
          "base_uri": "https://localhost:8080/"
        },
        "id": "gQwOL12e8MVX",
        "outputId": "806b8d3e-3cc4-4bba-fad0-8c1a18b1ac9e"
      },
      "outputs": [
        {
          "output_type": "stream",
          "name": "stdout",
          "text": [
            "016.한국어_방언_발화_데이터(제주도)/01.데이터/1.Training/(new3)원천데이터/제주도_2.zip.part0\n",
            "016.한국어_방언_발화_데이터(제주도)/01.데이터/1.Training/(new3)원천데이터/제주도_2.zip.part1073741824\n",
            "016.한국어_방언_발화_데이터(제주도)/01.데이터/1.Training/(new3)원천데이터/제주도_2.zip.part2147483648\n",
            "016.한국어_방언_발화_데이터(제주도)/01.데이터/1.Training/(new3)원천데이터/제주도_2.zip.part3221225472\n",
            "016.한국어_방언_발화_데이터(제주도)/01.데이터/1.Training/(new3)원천데이터/제주도_2.zip.part4294967296\n",
            "016.한국어_방언_발화_데이터(제주도)/01.데이터/1.Training/(new3)원천데이터/제주도_2.zip.part5368709120\n",
            "016.한국어_방언_발화_데이터(제주도)/01.데이터/1.Training/(new3)원천데이터/제주도_2.zip.part6442450944\n",
            "016.한국어_방언_발화_데이터(제주도)/01.데이터/1.Training/(new3)원천데이터/제주도_2.zip.part7516192768\n",
            "016.한국어_방언_발화_데이터(제주도)/01.데이터/1.Training/(new3)원천데이터/제주도_2.zip.part8589934592\n",
            "016.한국어_방언_발화_데이터(제주도)/01.데이터/1.Training/(new3)원천데이터/제주도_2.zip.part9663676416\n",
            "016.한국어_방언_발화_데이터(제주도)/01.데이터/1.Training/(new3)원천데이터/제주도_2.zip.part10737418240\n",
            "016.한국어_방언_발화_데이터(제주도)/01.데이터/1.Training/(new3)원천데이터/제주도_2.zip.part11811160064\n",
            "016.한국어_방언_발화_데이터(제주도)/01.데이터/1.Training/(new3)원천데이터/제주도_2.zip.part12884901888\n",
            "016.한국어_방언_발화_데이터(제주도)/01.데이터/1.Training/(new3)원천데이터/제주도_2.zip.part13958643712\n",
            "016.한국어_방언_발화_데이터(제주도)/01.데이터/1.Training/(new3)원천데이터/제주도_2.zip.part15032385536\n",
            "016.한국어_방언_발화_데이터(제주도)/01.데이터/1.Training/(new3)원천데이터/제주도_2.zip.part16106127360\n",
            "016.한국어_방언_발화_데이터(제주도)/01.데이터/1.Training/(new3)원천데이터/제주도_2.zip.part17179869184\n",
            "016.한국어_방언_발화_데이터(제주도)/01.데이터/1.Training/(new3)원천데이터/제주도_2.zip.part18253611008\n",
            "016.한국어_방언_발화_데이터(제주도)/01.데이터/1.Training/(new3)원천데이터/제주도_2.zip.part19327352832\n",
            "016.한국어_방언_발화_데이터(제주도)/01.데이터/1.Training/(new3)원천데이터/제주도_2.zip.part20401094656\n",
            "016.한국어_방언_발화_데이터(제주도)/01.데이터/1.Training/(new3)원천데이터/제주도_2.zip.part21474836480\n",
            "016.한국어_방언_발화_데이터(제주도)/01.데이터/1.Training/(new3)원천데이터/제주도_2.zip.part22548578304\n",
            "016.한국어_방언_발화_데이터(제주도)/01.데이터/1.Training/(new3)원천데이터/제주도_2.zip.part23622320128\n",
            "016.한국어_방언_발화_데이터(제주도)/01.데이터/1.Training/(new3)원천데이터/제주도_2.zip.part24696061952\n"
          ]
        }
      ],
      "source": [
        "#!unzip -qq '/content/Mydrive/MyDrive/Jeju_aihub/제주도_2.zip' -d '/content/Mydrive/MyDrive/Jeju_aihub'\\\n",
        "!tar -xvf /content/Mydrive/MyDrive/제주도_2.tar -C /content/Mydrive/MyDrive/Jeju_aihub/"
      ]
    },
    {
      "cell_type": "code",
      "execution_count": null,
      "metadata": {
        "colab": {
          "base_uri": "https://localhost:8080/"
        },
        "id": "FbBet-mjBh--",
        "outputId": "741b9c14-2d39-47c9-dbde-dde46424e6a6"
      },
      "outputs": [
        {
          "name": "stdout",
          "output_type": "stream",
          "text": [
            "ls: cannot access '*.zip': No such file or directory\n"
          ]
        }
      ],
      "source": [
        "%pwd\n",
        "%ls *.zip"
      ]
    },
    {
      "cell_type": "code",
      "execution_count": 8,
      "metadata": {
        "colab": {
          "base_uri": "https://localhost:8080/"
        },
        "id": "ey5RPiU6nb12",
        "outputId": "883abdb6-d420-468c-a466-7b14ab1fa51f"
      },
      "outputs": [
        {
          "output_type": "stream",
          "name": "stdout",
          "text": [
            "/content/Mydrive/MyDrive/Jeju_aihub\n"
          ]
        }
      ],
      "source": [
        "# 1. 다운로드한 tar 파일의 내용을 /경로/extracted 폴더로 압축 해제\n",
        "#!tar -xvf /content/Mydrive/MyDrive/Jeju_aihub/download.tar -C /content/Mydrive/MyDrive/Jeju_aihub\n",
        "%mv \"/content/Mydrive/MyDrive/Jeju_aihub/016.한국어_방언_발화_데이터(제주도)/01.데이터/1.Training/(new3)원천데이터/\"* \"/content/Mydrive/MyDrive/Jeju_aihub/\"\n",
        "%rm -rf \"/content/Mydrive/MyDrive/Jeju_aihub/016.한국어_방언_발화_데이터(제주도)/\"\n",
        "%cd /content/Mydrive/MyDrive/Jeju_aihub\n",
        "!find \"/content/Mydrive/MyDrive/Jeju_aihub/\" -name \"*.zip.*\" -print0 | sort -zt'.' -k2V | xargs -0 cat > \"/content/Mydrive/MyDrive/Jeju_aihub/제주도_2.zip\""
      ]
    },
    {
      "cell_type": "code",
      "execution_count": 9,
      "metadata": {
        "colab": {
          "base_uri": "https://localhost:8080/"
        },
        "id": "nAyEG9pSBuX7",
        "outputId": "8ee4ebbe-04d5-4c3d-c15d-7bacdd5eb4e1"
      },
      "outputs": [
        {
          "output_type": "stream",
          "name": "stdout",
          "text": [
            "Archive:  /content/Mydrive/MyDrive/Jeju_aihub/제주도_2.zip\n",
            "  inflating: /content/Mydrive/MyDrive/Jeju_aihub/unzipped/DZES20000303.wav  \n",
            "  inflating: /content/Mydrive/MyDrive/Jeju_aihub/unzipped/DZES20000304.wav  \n",
            "  inflating: /content/Mydrive/MyDrive/Jeju_aihub/unzipped/DZES20000306.wav  \n",
            "  inflating: /content/Mydrive/MyDrive/Jeju_aihub/unzipped/DZES20000310.wav  \n",
            "  inflating: /content/Mydrive/MyDrive/Jeju_aihub/unzipped/DZES20000311.wav  \n",
            "  inflating: /content/Mydrive/MyDrive/Jeju_aihub/unzipped/DZES20000312.wav  \n",
            "  inflating: /content/Mydrive/MyDrive/Jeju_aihub/unzipped/DZES20000313.wav  \n",
            "  inflating: /content/Mydrive/MyDrive/Jeju_aihub/unzipped/DZES20000314.wav  \n",
            "  inflating: /content/Mydrive/MyDrive/Jeju_aihub/unzipped/DZES20000315.wav  \n",
            "  inflating: /content/Mydrive/MyDrive/Jeju_aihub/unzipped/DZES20000316.wav  \n",
            "  inflating: /content/Mydrive/MyDrive/Jeju_aihub/unzipped/DZES20000321.wav  \n",
            "  inflating: /content/Mydrive/MyDrive/Jeju_aihub/unzipped/DZES20000323.wav  \n",
            "  inflating: /content/Mydrive/MyDrive/Jeju_aihub/unzipped/DZES20000324.wav  \n",
            "  inflating: /content/Mydrive/MyDrive/Jeju_aihub/unzipped/DZES20000325.wav  \n",
            "  inflating: /content/Mydrive/MyDrive/Jeju_aihub/unzipped/DZES20000327.wav  \n",
            "  inflating: /content/Mydrive/MyDrive/Jeju_aihub/unzipped/DZES20000328.wav  \n",
            "  inflating: /content/Mydrive/MyDrive/Jeju_aihub/unzipped/DZES20000330.wav  \n",
            "  inflating: /content/Mydrive/MyDrive/Jeju_aihub/unzipped/DZES20000331.wav  \n",
            "  inflating: /content/Mydrive/MyDrive/Jeju_aihub/unzipped/DZES20000332.wav  \n",
            "  inflating: /content/Mydrive/MyDrive/Jeju_aihub/unzipped/DZES20000334.wav  \n",
            "  inflating: /content/Mydrive/MyDrive/Jeju_aihub/unzipped/DZES20000335.wav  \n",
            "  inflating: /content/Mydrive/MyDrive/Jeju_aihub/unzipped/DZES20000336.wav  \n",
            "  inflating: /content/Mydrive/MyDrive/Jeju_aihub/unzipped/DZES20000337.wav  \n",
            "  inflating: /content/Mydrive/MyDrive/Jeju_aihub/unzipped/DZES20000343.wav  \n",
            "  inflating: /content/Mydrive/MyDrive/Jeju_aihub/unzipped/DZES20000344.wav  \n",
            "  inflating: /content/Mydrive/MyDrive/Jeju_aihub/unzipped/DZES20000345.wav  \n",
            "  inflating: /content/Mydrive/MyDrive/Jeju_aihub/unzipped/DZES20000346.wav  \n",
            "  inflating: /content/Mydrive/MyDrive/Jeju_aihub/unzipped/DZES20000354.wav  \n",
            "  inflating: /content/Mydrive/MyDrive/Jeju_aihub/unzipped/DZES20000356.wav  \n",
            "  inflating: /content/Mydrive/MyDrive/Jeju_aihub/unzipped/DZES20000365.wav  \n",
            "  inflating: /content/Mydrive/MyDrive/Jeju_aihub/unzipped/DZES20000366.wav  \n",
            "  inflating: /content/Mydrive/MyDrive/Jeju_aihub/unzipped/DZES20000367.wav  \n",
            "  inflating: /content/Mydrive/MyDrive/Jeju_aihub/unzipped/DZES20000368.wav  \n",
            "  inflating: /content/Mydrive/MyDrive/Jeju_aihub/unzipped/DZES20000369.wav  \n",
            "  inflating: /content/Mydrive/MyDrive/Jeju_aihub/unzipped/DZES20000370.wav  \n",
            "  inflating: /content/Mydrive/MyDrive/Jeju_aihub/unzipped/DZES20000373.wav  \n",
            "  inflating: /content/Mydrive/MyDrive/Jeju_aihub/unzipped/DZES20000374.wav  \n",
            "  inflating: /content/Mydrive/MyDrive/Jeju_aihub/unzipped/DZES20000375.wav  \n",
            "  inflating: /content/Mydrive/MyDrive/Jeju_aihub/unzipped/DZES20000377.wav  \n",
            "  inflating: /content/Mydrive/MyDrive/Jeju_aihub/unzipped/DZES20000378.wav  \n",
            "  inflating: /content/Mydrive/MyDrive/Jeju_aihub/unzipped/DZES20000379.wav  \n",
            "  inflating: /content/Mydrive/MyDrive/Jeju_aihub/unzipped/DZES20000381.wav  \n",
            "  inflating: /content/Mydrive/MyDrive/Jeju_aihub/unzipped/DZES20000382.wav  \n",
            "  inflating: /content/Mydrive/MyDrive/Jeju_aihub/unzipped/DZES20000383.wav  \n",
            "  inflating: /content/Mydrive/MyDrive/Jeju_aihub/unzipped/DZES20000385.wav  \n",
            "  inflating: /content/Mydrive/MyDrive/Jeju_aihub/unzipped/DZES20000389.wav  \n",
            "  inflating: /content/Mydrive/MyDrive/Jeju_aihub/unzipped/DZES20000390.wav  \n",
            "  inflating: /content/Mydrive/MyDrive/Jeju_aihub/unzipped/DZES20000391.wav  \n",
            "  inflating: /content/Mydrive/MyDrive/Jeju_aihub/unzipped/DZES20000392.wav  \n",
            "  inflating: /content/Mydrive/MyDrive/Jeju_aihub/unzipped/DZES20000393.wav  \n",
            "  inflating: /content/Mydrive/MyDrive/Jeju_aihub/unzipped/DZES20000394.wav  \n",
            "  inflating: /content/Mydrive/MyDrive/Jeju_aihub/unzipped/DZES20000396.wav  \n",
            "  inflating: /content/Mydrive/MyDrive/Jeju_aihub/unzipped/DZES20000399.wav  \n",
            "  inflating: /content/Mydrive/MyDrive/Jeju_aihub/unzipped/DZES20000402.wav  \n",
            "  inflating: /content/Mydrive/MyDrive/Jeju_aihub/unzipped/DZES20000407.wav  \n",
            "  inflating: /content/Mydrive/MyDrive/Jeju_aihub/unzipped/DZES20000408.wav  \n",
            "  inflating: /content/Mydrive/MyDrive/Jeju_aihub/unzipped/DZES20000409.wav  \n",
            "  inflating: /content/Mydrive/MyDrive/Jeju_aihub/unzipped/DZES20000410.wav  \n",
            "  inflating: /content/Mydrive/MyDrive/Jeju_aihub/unzipped/DZES20000411.wav  \n",
            "  inflating: /content/Mydrive/MyDrive/Jeju_aihub/unzipped/DZES20000412.wav  \n",
            "  inflating: /content/Mydrive/MyDrive/Jeju_aihub/unzipped/DZES20000413.wav  \n",
            "  inflating: /content/Mydrive/MyDrive/Jeju_aihub/unzipped/DZES20000414.wav  \n",
            "  inflating: /content/Mydrive/MyDrive/Jeju_aihub/unzipped/DZES20000416.wav  \n",
            "  inflating: /content/Mydrive/MyDrive/Jeju_aihub/unzipped/DZES20000417.wav  \n",
            "  inflating: /content/Mydrive/MyDrive/Jeju_aihub/unzipped/DZES20000418.wav  \n",
            "  inflating: /content/Mydrive/MyDrive/Jeju_aihub/unzipped/DZES20000419.wav  \n",
            "  inflating: /content/Mydrive/MyDrive/Jeju_aihub/unzipped/DZES20000420.wav  \n",
            "  inflating: /content/Mydrive/MyDrive/Jeju_aihub/unzipped/DZES20000421.wav  \n",
            "  inflating: /content/Mydrive/MyDrive/Jeju_aihub/unzipped/DZES20000423.wav  \n",
            "  inflating: /content/Mydrive/MyDrive/Jeju_aihub/unzipped/DZES20000424.wav  \n",
            "  inflating: /content/Mydrive/MyDrive/Jeju_aihub/unzipped/DZES20000425.wav  \n",
            "  inflating: /content/Mydrive/MyDrive/Jeju_aihub/unzipped/DZES20000426.wav  \n",
            "  inflating: /content/Mydrive/MyDrive/Jeju_aihub/unzipped/DZES20000431.wav  \n",
            "  inflating: /content/Mydrive/MyDrive/Jeju_aihub/unzipped/DZES20000432.wav  \n",
            "  inflating: /content/Mydrive/MyDrive/Jeju_aihub/unzipped/DZES20000434.wav  \n",
            "  inflating: /content/Mydrive/MyDrive/Jeju_aihub/unzipped/DZES20000435.wav  \n",
            "  inflating: /content/Mydrive/MyDrive/Jeju_aihub/unzipped/DZES20000436.wav  \n",
            "  inflating: /content/Mydrive/MyDrive/Jeju_aihub/unzipped/DZES20000437.wav  \n",
            "  inflating: /content/Mydrive/MyDrive/Jeju_aihub/unzipped/DZES20000439.wav  \n",
            "  inflating: /content/Mydrive/MyDrive/Jeju_aihub/unzipped/DZES20000442.wav  \n",
            "  inflating: /content/Mydrive/MyDrive/Jeju_aihub/unzipped/DZES20000443.wav  \n",
            "  inflating: /content/Mydrive/MyDrive/Jeju_aihub/unzipped/DZES20000447.wav  \n",
            "  inflating: /content/Mydrive/MyDrive/Jeju_aihub/unzipped/DZES20000448.wav  \n",
            "  inflating: /content/Mydrive/MyDrive/Jeju_aihub/unzipped/DZES20000449.wav  \n",
            "  inflating: /content/Mydrive/MyDrive/Jeju_aihub/unzipped/DZES20000450.wav  \n",
            "  inflating: /content/Mydrive/MyDrive/Jeju_aihub/unzipped/DZES20000451.wav  \n",
            "  inflating: /content/Mydrive/MyDrive/Jeju_aihub/unzipped/DZES20000452.wav  \n",
            "  inflating: /content/Mydrive/MyDrive/Jeju_aihub/unzipped/DZES20000453.wav  \n",
            "  inflating: /content/Mydrive/MyDrive/Jeju_aihub/unzipped/DZES20000454.wav  \n",
            "  inflating: /content/Mydrive/MyDrive/Jeju_aihub/unzipped/DZES20000455.wav  \n",
            "  inflating: /content/Mydrive/MyDrive/Jeju_aihub/unzipped/DZES20000456.wav  \n",
            "  inflating: /content/Mydrive/MyDrive/Jeju_aihub/unzipped/DZES20000457.wav  \n",
            "  inflating: /content/Mydrive/MyDrive/Jeju_aihub/unzipped/DZES20000458.wav  \n",
            "  inflating: /content/Mydrive/MyDrive/Jeju_aihub/unzipped/DZES20000459.wav  \n",
            "  inflating: /content/Mydrive/MyDrive/Jeju_aihub/unzipped/DZES20000460.wav  \n",
            "  inflating: /content/Mydrive/MyDrive/Jeju_aihub/unzipped/DZES20000461.wav  \n",
            "  inflating: /content/Mydrive/MyDrive/Jeju_aihub/unzipped/DZES20000463.wav  \n",
            "  inflating: /content/Mydrive/MyDrive/Jeju_aihub/unzipped/DZES20000464.wav  \n",
            "  inflating: /content/Mydrive/MyDrive/Jeju_aihub/unzipped/DZES20000465.wav  \n",
            "  inflating: /content/Mydrive/MyDrive/Jeju_aihub/unzipped/DZES20000467.wav  \n",
            "  inflating: /content/Mydrive/MyDrive/Jeju_aihub/unzipped/DZES20000468.wav  \n",
            "  inflating: /content/Mydrive/MyDrive/Jeju_aihub/unzipped/DZES20000469.wav  \n",
            "  inflating: /content/Mydrive/MyDrive/Jeju_aihub/unzipped/DZES20000470.wav  \n",
            "  inflating: /content/Mydrive/MyDrive/Jeju_aihub/unzipped/DZES20000471.wav  \n",
            "  inflating: /content/Mydrive/MyDrive/Jeju_aihub/unzipped/DZES20000472.wav  \n",
            "  inflating: /content/Mydrive/MyDrive/Jeju_aihub/unzipped/DZES20000473.wav  \n",
            "  inflating: /content/Mydrive/MyDrive/Jeju_aihub/unzipped/DZES20000475.wav  \n",
            "  inflating: /content/Mydrive/MyDrive/Jeju_aihub/unzipped/DZES20000477.wav  \n",
            "  inflating: /content/Mydrive/MyDrive/Jeju_aihub/unzipped/DZES20000480.wav  \n",
            "  inflating: /content/Mydrive/MyDrive/Jeju_aihub/unzipped/DZES20000481.wav  \n",
            "  inflating: /content/Mydrive/MyDrive/Jeju_aihub/unzipped/DZES20000482.wav  \n",
            "  inflating: /content/Mydrive/MyDrive/Jeju_aihub/unzipped/DZES20000483.wav  \n",
            "  inflating: /content/Mydrive/MyDrive/Jeju_aihub/unzipped/DZES20000485.wav  \n",
            "  inflating: /content/Mydrive/MyDrive/Jeju_aihub/unzipped/DZES20000486.wav  \n",
            "  inflating: /content/Mydrive/MyDrive/Jeju_aihub/unzipped/DZES20000488.wav  \n",
            "  inflating: /content/Mydrive/MyDrive/Jeju_aihub/unzipped/DZES20000489.wav  \n",
            "  inflating: /content/Mydrive/MyDrive/Jeju_aihub/unzipped/DZES20000490.wav  \n",
            "  inflating: /content/Mydrive/MyDrive/Jeju_aihub/unzipped/DZES20000491.wav  \n",
            "  inflating: /content/Mydrive/MyDrive/Jeju_aihub/unzipped/DZES20000494.wav  \n",
            "  inflating: /content/Mydrive/MyDrive/Jeju_aihub/unzipped/DZES20000495.wav  \n",
            "  inflating: /content/Mydrive/MyDrive/Jeju_aihub/unzipped/DZES20000496.wav  \n",
            "  inflating: /content/Mydrive/MyDrive/Jeju_aihub/unzipped/DZES20000498.wav  \n",
            "  inflating: /content/Mydrive/MyDrive/Jeju_aihub/unzipped/DZES20000499.wav  \n",
            "  inflating: /content/Mydrive/MyDrive/Jeju_aihub/unzipped/DZES20000501.wav  \n",
            "  inflating: /content/Mydrive/MyDrive/Jeju_aihub/unzipped/DZES20000502.wav  \n",
            "  inflating: /content/Mydrive/MyDrive/Jeju_aihub/unzipped/DZES20000505.wav  \n",
            "  inflating: /content/Mydrive/MyDrive/Jeju_aihub/unzipped/DZES20000506.wav  \n",
            "  inflating: /content/Mydrive/MyDrive/Jeju_aihub/unzipped/DZES20000507.wav  \n",
            "  inflating: /content/Mydrive/MyDrive/Jeju_aihub/unzipped/DZES20000510.wav  \n",
            "  inflating: /content/Mydrive/MyDrive/Jeju_aihub/unzipped/DZES20000514.wav  \n",
            "  inflating: /content/Mydrive/MyDrive/Jeju_aihub/unzipped/DZES20000515.wav  \n",
            "  inflating: /content/Mydrive/MyDrive/Jeju_aihub/unzipped/DZES20000517.wav  \n",
            "  inflating: /content/Mydrive/MyDrive/Jeju_aihub/unzipped/DZES20000518.wav  \n",
            "  inflating: /content/Mydrive/MyDrive/Jeju_aihub/unzipped/DZES20000520.wav  \n",
            "  inflating: /content/Mydrive/MyDrive/Jeju_aihub/unzipped/DZES20000521.wav  \n",
            "  inflating: /content/Mydrive/MyDrive/Jeju_aihub/unzipped/DZES20000524.wav  \n",
            "  inflating: /content/Mydrive/MyDrive/Jeju_aihub/unzipped/DZES20000525.wav  \n",
            "  inflating: /content/Mydrive/MyDrive/Jeju_aihub/unzipped/DZES20000526.wav  \n",
            "  inflating: /content/Mydrive/MyDrive/Jeju_aihub/unzipped/DZES20000527.wav  \n",
            "  inflating: /content/Mydrive/MyDrive/Jeju_aihub/unzipped/DZES20000528.wav  \n",
            "  inflating: /content/Mydrive/MyDrive/Jeju_aihub/unzipped/DZES20000529.wav  \n",
            "  inflating: /content/Mydrive/MyDrive/Jeju_aihub/unzipped/DZES20000532.wav  \n",
            "  inflating: /content/Mydrive/MyDrive/Jeju_aihub/unzipped/DZES20000534.wav  \n",
            "  inflating: /content/Mydrive/MyDrive/Jeju_aihub/unzipped/DZES20000535.wav  \n",
            "  inflating: /content/Mydrive/MyDrive/Jeju_aihub/unzipped/DZES20000536.wav  \n",
            "  inflating: /content/Mydrive/MyDrive/Jeju_aihub/unzipped/DZES20000537.wav  \n",
            "  inflating: /content/Mydrive/MyDrive/Jeju_aihub/unzipped/DZES20000539.wav  \n",
            "  inflating: /content/Mydrive/MyDrive/Jeju_aihub/unzipped/DZES20000540.wav  \n",
            "  inflating: /content/Mydrive/MyDrive/Jeju_aihub/unzipped/DZES20000541.wav  \n",
            "  inflating: /content/Mydrive/MyDrive/Jeju_aihub/unzipped/DZES20000545.wav  \n",
            "  inflating: /content/Mydrive/MyDrive/Jeju_aihub/unzipped/DZES20000546.wav  \n",
            "  inflating: /content/Mydrive/MyDrive/Jeju_aihub/unzipped/DZES20000547.wav  \n",
            "  inflating: /content/Mydrive/MyDrive/Jeju_aihub/unzipped/DZES20000548.wav  \n",
            "  inflating: /content/Mydrive/MyDrive/Jeju_aihub/unzipped/DZES20000549.wav  \n",
            "  inflating: /content/Mydrive/MyDrive/Jeju_aihub/unzipped/DZES20000550.wav  \n",
            "  inflating: /content/Mydrive/MyDrive/Jeju_aihub/unzipped/DZES20000551.wav  \n",
            "  inflating: /content/Mydrive/MyDrive/Jeju_aihub/unzipped/DZES20000552.wav  \n",
            "  inflating: /content/Mydrive/MyDrive/Jeju_aihub/unzipped/DZES20000555.wav  \n",
            "  inflating: /content/Mydrive/MyDrive/Jeju_aihub/unzipped/DZES20000556.wav  \n",
            "  inflating: /content/Mydrive/MyDrive/Jeju_aihub/unzipped/DZES20000557.wav  \n",
            "  inflating: /content/Mydrive/MyDrive/Jeju_aihub/unzipped/DZES20000558.wav  \n",
            "  inflating: /content/Mydrive/MyDrive/Jeju_aihub/unzipped/DZES20000559.wav  \n",
            "  inflating: /content/Mydrive/MyDrive/Jeju_aihub/unzipped/DZES20000560.wav  \n",
            "  inflating: /content/Mydrive/MyDrive/Jeju_aihub/unzipped/DZES20000561.wav  \n",
            "  inflating: /content/Mydrive/MyDrive/Jeju_aihub/unzipped/DZES20000562.wav  \n",
            "  inflating: /content/Mydrive/MyDrive/Jeju_aihub/unzipped/DZES20000563.wav  \n",
            "  inflating: /content/Mydrive/MyDrive/Jeju_aihub/unzipped/DZES20000564.wav  \n",
            "  inflating: /content/Mydrive/MyDrive/Jeju_aihub/unzipped/DZES20000565.wav  \n",
            "  inflating: /content/Mydrive/MyDrive/Jeju_aihub/unzipped/DZES20000570.wav  \n",
            "  inflating: /content/Mydrive/MyDrive/Jeju_aihub/unzipped/DZES20000571.wav  \n",
            "  inflating: /content/Mydrive/MyDrive/Jeju_aihub/unzipped/DZES20000572.wav  \n",
            "  inflating: /content/Mydrive/MyDrive/Jeju_aihub/unzipped/DZES20000573.wav  \n",
            "  inflating: /content/Mydrive/MyDrive/Jeju_aihub/unzipped/DZES20000574.wav  \n",
            "  inflating: /content/Mydrive/MyDrive/Jeju_aihub/unzipped/DZES20000575.wav  \n",
            "  inflating: /content/Mydrive/MyDrive/Jeju_aihub/unzipped/DZES20000577.wav  \n",
            "  inflating: /content/Mydrive/MyDrive/Jeju_aihub/unzipped/DZES20000578.wav  \n",
            "  inflating: /content/Mydrive/MyDrive/Jeju_aihub/unzipped/DZES20000579.wav  \n",
            "  inflating: /content/Mydrive/MyDrive/Jeju_aihub/unzipped/DZES20000580.wav  \n",
            "  inflating: /content/Mydrive/MyDrive/Jeju_aihub/unzipped/DZES20000581.wav  \n",
            "  inflating: /content/Mydrive/MyDrive/Jeju_aihub/unzipped/DZES20000582.wav  \n",
            "  inflating: /content/Mydrive/MyDrive/Jeju_aihub/unzipped/DZES20000583.wav  \n",
            "  inflating: /content/Mydrive/MyDrive/Jeju_aihub/unzipped/DZES20000584.wav  \n",
            "  inflating: /content/Mydrive/MyDrive/Jeju_aihub/unzipped/DZES20000585.wav  \n",
            "  inflating: /content/Mydrive/MyDrive/Jeju_aihub/unzipped/DZES20000586.wav  \n",
            "  inflating: /content/Mydrive/MyDrive/Jeju_aihub/unzipped/DZES20000588.wav  \n",
            "  inflating: /content/Mydrive/MyDrive/Jeju_aihub/unzipped/DZES20000589.wav  \n",
            "  inflating: /content/Mydrive/MyDrive/Jeju_aihub/unzipped/DZES20000590.wav  \n",
            "  inflating: /content/Mydrive/MyDrive/Jeju_aihub/unzipped/DZES20000591.wav  \n",
            "  inflating: /content/Mydrive/MyDrive/Jeju_aihub/unzipped/DZES20000592.wav  \n",
            "  inflating: /content/Mydrive/MyDrive/Jeju_aihub/unzipped/DZES20000593.wav  \n",
            "  inflating: /content/Mydrive/MyDrive/Jeju_aihub/unzipped/DZES20000594.wav  \n",
            "  inflating: /content/Mydrive/MyDrive/Jeju_aihub/unzipped/DZES20000595.wav  \n",
            "  inflating: /content/Mydrive/MyDrive/Jeju_aihub/unzipped/DZES20000596.wav  \n",
            "  inflating: /content/Mydrive/MyDrive/Jeju_aihub/unzipped/DZES20000597.wav  \n",
            "  inflating: /content/Mydrive/MyDrive/Jeju_aihub/unzipped/DZES20000598.wav  \n",
            "  inflating: /content/Mydrive/MyDrive/Jeju_aihub/unzipped/DZES20000599.wav  \n",
            "  inflating: /content/Mydrive/MyDrive/Jeju_aihub/unzipped/DZES20000600.wav  \n",
            "  inflating: /content/Mydrive/MyDrive/Jeju_aihub/unzipped/DZES20000601.wav  \n",
            "  inflating: /content/Mydrive/MyDrive/Jeju_aihub/unzipped/DZES20000602.wav  \n",
            "  inflating: /content/Mydrive/MyDrive/Jeju_aihub/unzipped/DZES20000603.wav  \n",
            "  inflating: /content/Mydrive/MyDrive/Jeju_aihub/unzipped/DZES20000604.wav  \n",
            "  inflating: /content/Mydrive/MyDrive/Jeju_aihub/unzipped/DZES20000610.wav  \n",
            "  inflating: /content/Mydrive/MyDrive/Jeju_aihub/unzipped/DZES20000611.wav  \n"
          ]
        }
      ],
      "source": [
        "!unzip \"/content/Mydrive/MyDrive/Jeju_aihub/제주도_2.zip\" -d \"/content/Mydrive/MyDrive/Jeju_aihub/unzipped\""
      ]
    },
    {
      "cell_type": "code",
      "execution_count": null,
      "metadata": {
        "colab": {
          "base_uri": "https://localhost:8080/"
        },
        "id": "KvHBxgyfGdAA",
        "outputId": "95740d19-bd6a-42ff-890f-8247dca1b9ac"
      },
      "outputs": [
        {
          "name": "stdout",
          "output_type": "stream",
          "text": [
            "Collecting faster-whisper\n",
            "  Downloading faster_whisper-1.1.1-py3-none-any.whl.metadata (16 kB)\n",
            "Collecting ctranslate2<5,>=4.0 (from faster-whisper)\n",
            "  Downloading ctranslate2-4.5.0-cp311-cp311-manylinux_2_17_x86_64.manylinux2014_x86_64.whl.metadata (10 kB)\n",
            "Requirement already satisfied: huggingface-hub>=0.13 in /usr/local/lib/python3.11/dist-packages (from faster-whisper) (0.30.1)\n",
            "Requirement already satisfied: tokenizers<1,>=0.13 in /usr/local/lib/python3.11/dist-packages (from faster-whisper) (0.21.1)\n",
            "Collecting onnxruntime<2,>=1.14 (from faster-whisper)\n",
            "  Downloading onnxruntime-1.21.0-cp311-cp311-manylinux_2_27_x86_64.manylinux_2_28_x86_64.whl.metadata (4.5 kB)\n",
            "Collecting av>=11 (from faster-whisper)\n",
            "  Downloading av-14.2.0-cp311-cp311-manylinux_2_17_x86_64.manylinux2014_x86_64.whl.metadata (4.6 kB)\n",
            "Requirement already satisfied: tqdm in /usr/local/lib/python3.11/dist-packages (from faster-whisper) (4.67.1)\n",
            "Requirement already satisfied: setuptools in /usr/local/lib/python3.11/dist-packages (from ctranslate2<5,>=4.0->faster-whisper) (75.2.0)\n",
            "Requirement already satisfied: numpy in /usr/local/lib/python3.11/dist-packages (from ctranslate2<5,>=4.0->faster-whisper) (2.0.2)\n",
            "Requirement already satisfied: pyyaml<7,>=5.3 in /usr/local/lib/python3.11/dist-packages (from ctranslate2<5,>=4.0->faster-whisper) (6.0.2)\n",
            "Requirement already satisfied: filelock in /usr/local/lib/python3.11/dist-packages (from huggingface-hub>=0.13->faster-whisper) (3.18.0)\n",
            "Requirement already satisfied: fsspec>=2023.5.0 in /usr/local/lib/python3.11/dist-packages (from huggingface-hub>=0.13->faster-whisper) (2025.3.2)\n",
            "Requirement already satisfied: packaging>=20.9 in /usr/local/lib/python3.11/dist-packages (from huggingface-hub>=0.13->faster-whisper) (24.2)\n",
            "Requirement already satisfied: requests in /usr/local/lib/python3.11/dist-packages (from huggingface-hub>=0.13->faster-whisper) (2.32.3)\n",
            "Requirement already satisfied: typing-extensions>=3.7.4.3 in /usr/local/lib/python3.11/dist-packages (from huggingface-hub>=0.13->faster-whisper) (4.13.0)\n",
            "Collecting coloredlogs (from onnxruntime<2,>=1.14->faster-whisper)\n",
            "  Downloading coloredlogs-15.0.1-py2.py3-none-any.whl.metadata (12 kB)\n",
            "Requirement already satisfied: flatbuffers in /usr/local/lib/python3.11/dist-packages (from onnxruntime<2,>=1.14->faster-whisper) (25.2.10)\n",
            "Requirement already satisfied: protobuf in /usr/local/lib/python3.11/dist-packages (from onnxruntime<2,>=1.14->faster-whisper) (5.29.4)\n",
            "Requirement already satisfied: sympy in /usr/local/lib/python3.11/dist-packages (from onnxruntime<2,>=1.14->faster-whisper) (1.13.1)\n",
            "Collecting humanfriendly>=9.1 (from coloredlogs->onnxruntime<2,>=1.14->faster-whisper)\n",
            "  Downloading humanfriendly-10.0-py2.py3-none-any.whl.metadata (9.2 kB)\n",
            "Requirement already satisfied: charset-normalizer<4,>=2 in /usr/local/lib/python3.11/dist-packages (from requests->huggingface-hub>=0.13->faster-whisper) (3.4.1)\n",
            "Requirement already satisfied: idna<4,>=2.5 in /usr/local/lib/python3.11/dist-packages (from requests->huggingface-hub>=0.13->faster-whisper) (3.10)\n",
            "Requirement already satisfied: urllib3<3,>=1.21.1 in /usr/local/lib/python3.11/dist-packages (from requests->huggingface-hub>=0.13->faster-whisper) (2.3.0)\n",
            "Requirement already satisfied: certifi>=2017.4.17 in /usr/local/lib/python3.11/dist-packages (from requests->huggingface-hub>=0.13->faster-whisper) (2025.1.31)\n",
            "Requirement already satisfied: mpmath<1.4,>=1.1.0 in /usr/local/lib/python3.11/dist-packages (from sympy->onnxruntime<2,>=1.14->faster-whisper) (1.3.0)\n",
            "Downloading faster_whisper-1.1.1-py3-none-any.whl (1.1 MB)\n",
            "\u001b[2K   \u001b[90m━━━━━━━━━━━━━━━━━━━━━━━━━━━━━━━━━━━━━━━━\u001b[0m \u001b[32m1.1/1.1 MB\u001b[0m \u001b[31m54.8 MB/s\u001b[0m eta \u001b[36m0:00:00\u001b[0m\n",
            "\u001b[?25hDownloading av-14.2.0-cp311-cp311-manylinux_2_17_x86_64.manylinux2014_x86_64.whl (39.7 MB)\n",
            "\u001b[2K   \u001b[90m━━━━━━━━━━━━━━━━━━━━━━━━━━━━━━━━━━━━━━━━\u001b[0m \u001b[32m39.7/39.7 MB\u001b[0m \u001b[31m35.8 MB/s\u001b[0m eta \u001b[36m0:00:00\u001b[0m\n",
            "\u001b[?25hDownloading ctranslate2-4.5.0-cp311-cp311-manylinux_2_17_x86_64.manylinux2014_x86_64.whl (38.6 MB)\n",
            "\u001b[2K   \u001b[90m━━━━━━━━━━━━━━━━━━━━━━━━━━━━━━━━━━━━━━━━\u001b[0m \u001b[32m38.6/38.6 MB\u001b[0m \u001b[31m23.6 MB/s\u001b[0m eta \u001b[36m0:00:00\u001b[0m\n",
            "\u001b[?25hDownloading onnxruntime-1.21.0-cp311-cp311-manylinux_2_27_x86_64.manylinux_2_28_x86_64.whl (16.0 MB)\n",
            "\u001b[2K   \u001b[90m━━━━━━━━━━━━━━━━━━━━━━━━━━━━━━━━━━━━━━━━\u001b[0m \u001b[32m16.0/16.0 MB\u001b[0m \u001b[31m112.2 MB/s\u001b[0m eta \u001b[36m0:00:00\u001b[0m\n",
            "\u001b[?25hDownloading coloredlogs-15.0.1-py2.py3-none-any.whl (46 kB)\n",
            "\u001b[2K   \u001b[90m━━━━━━━━━━━━━━━━━━━━━━━━━━━━━━━━━━━━━━━━\u001b[0m \u001b[32m46.0/46.0 kB\u001b[0m \u001b[31m4.0 MB/s\u001b[0m eta \u001b[36m0:00:00\u001b[0m\n",
            "\u001b[?25hDownloading humanfriendly-10.0-py2.py3-none-any.whl (86 kB)\n",
            "\u001b[2K   \u001b[90m━━━━━━━━━━━━━━━━━━━━━━━━━━━━━━━━━━━━━━━━\u001b[0m \u001b[32m86.8/86.8 kB\u001b[0m \u001b[31m8.4 MB/s\u001b[0m eta \u001b[36m0:00:00\u001b[0m\n",
            "\u001b[?25hInstalling collected packages: humanfriendly, ctranslate2, av, coloredlogs, onnxruntime, faster-whisper\n",
            "Successfully installed av-14.2.0 coloredlogs-15.0.1 ctranslate2-4.5.0 faster-whisper-1.1.1 humanfriendly-10.0 onnxruntime-1.21.0\n",
            "Collecting pydub\n",
            "  Downloading pydub-0.25.1-py2.py3-none-any.whl.metadata (1.4 kB)\n",
            "Requirement already satisfied: transformers in /usr/local/lib/python3.11/dist-packages (4.50.3)\n",
            "Requirement already satisfied: soundfile in /usr/local/lib/python3.11/dist-packages (0.13.1)\n",
            "Requirement already satisfied: filelock in /usr/local/lib/python3.11/dist-packages (from transformers) (3.18.0)\n",
            "Requirement already satisfied: huggingface-hub<1.0,>=0.26.0 in /usr/local/lib/python3.11/dist-packages (from transformers) (0.30.1)\n",
            "Requirement already satisfied: numpy>=1.17 in /usr/local/lib/python3.11/dist-packages (from transformers) (2.0.2)\n",
            "Requirement already satisfied: packaging>=20.0 in /usr/local/lib/python3.11/dist-packages (from transformers) (24.2)\n",
            "Requirement already satisfied: pyyaml>=5.1 in /usr/local/lib/python3.11/dist-packages (from transformers) (6.0.2)\n",
            "Requirement already satisfied: regex!=2019.12.17 in /usr/local/lib/python3.11/dist-packages (from transformers) (2024.11.6)\n",
            "Requirement already satisfied: requests in /usr/local/lib/python3.11/dist-packages (from transformers) (2.32.3)\n",
            "Requirement already satisfied: tokenizers<0.22,>=0.21 in /usr/local/lib/python3.11/dist-packages (from transformers) (0.21.1)\n",
            "Requirement already satisfied: safetensors>=0.4.3 in /usr/local/lib/python3.11/dist-packages (from transformers) (0.5.3)\n",
            "Requirement already satisfied: tqdm>=4.27 in /usr/local/lib/python3.11/dist-packages (from transformers) (4.67.1)\n",
            "Requirement already satisfied: cffi>=1.0 in /usr/local/lib/python3.11/dist-packages (from soundfile) (1.17.1)\n",
            "Requirement already satisfied: pycparser in /usr/local/lib/python3.11/dist-packages (from cffi>=1.0->soundfile) (2.22)\n",
            "Requirement already satisfied: fsspec>=2023.5.0 in /usr/local/lib/python3.11/dist-packages (from huggingface-hub<1.0,>=0.26.0->transformers) (2025.3.2)\n",
            "Requirement already satisfied: typing-extensions>=3.7.4.3 in /usr/local/lib/python3.11/dist-packages (from huggingface-hub<1.0,>=0.26.0->transformers) (4.13.0)\n",
            "Requirement already satisfied: charset-normalizer<4,>=2 in /usr/local/lib/python3.11/dist-packages (from requests->transformers) (3.4.1)\n",
            "Requirement already satisfied: idna<4,>=2.5 in /usr/local/lib/python3.11/dist-packages (from requests->transformers) (3.10)\n",
            "Requirement already satisfied: urllib3<3,>=1.21.1 in /usr/local/lib/python3.11/dist-packages (from requests->transformers) (2.3.0)\n",
            "Requirement already satisfied: certifi>=2017.4.17 in /usr/local/lib/python3.11/dist-packages (from requests->transformers) (2025.1.31)\n",
            "Downloading pydub-0.25.1-py2.py3-none-any.whl (32 kB)\n",
            "Installing collected packages: pydub\n",
            "Successfully installed pydub-0.25.1\n"
          ]
        }
      ],
      "source": [
        "# Colab 환경에서는 먼저 faster-whisper 패키지를 설치합니다.\n",
        "!pip install faster-whisper\n",
        "!pip install pydub transformers soundfile"
      ]
    },
    {
      "cell_type": "code",
      "execution_count": 2,
      "metadata": {
        "colab": {
          "base_uri": "https://localhost:8080/",
          "height": 410
        },
        "id": "pJDBV_XXDxTu",
        "outputId": "a83ec71a-01dc-42b2-a92c-c082413227a3"
      },
      "outputs": [
        {
          "output_type": "error",
          "ename": "ModuleNotFoundError",
          "evalue": "No module named 'pydub'",
          "traceback": [
            "\u001b[0;31m---------------------------------------------------------------------------\u001b[0m",
            "\u001b[0;31mModuleNotFoundError\u001b[0m                       Traceback (most recent call last)",
            "\u001b[0;32m<ipython-input-2-9c866e3a085a>\u001b[0m in \u001b[0;36m<cell line: 0>\u001b[0;34m()\u001b[0m\n\u001b[1;32m      3\u001b[0m \u001b[0;32mimport\u001b[0m \u001b[0mjson\u001b[0m\u001b[0;34m\u001b[0m\u001b[0;34m\u001b[0m\u001b[0m\n\u001b[1;32m      4\u001b[0m \u001b[0;32mimport\u001b[0m \u001b[0mtorch\u001b[0m\u001b[0;34m\u001b[0m\u001b[0;34m\u001b[0m\u001b[0m\n\u001b[0;32m----> 5\u001b[0;31m \u001b[0;32mfrom\u001b[0m \u001b[0mpydub\u001b[0m \u001b[0;32mimport\u001b[0m \u001b[0mAudioSegment\u001b[0m\u001b[0;34m\u001b[0m\u001b[0;34m\u001b[0m\u001b[0m\n\u001b[0m\u001b[1;32m      6\u001b[0m \u001b[0;32mfrom\u001b[0m \u001b[0mtransformers\u001b[0m \u001b[0;32mimport\u001b[0m \u001b[0mAutoModelForSpeechSeq2Seq\u001b[0m\u001b[0;34m,\u001b[0m \u001b[0mAutoProcessor\u001b[0m\u001b[0;34m,\u001b[0m \u001b[0mpipeline\u001b[0m\u001b[0;34m\u001b[0m\u001b[0;34m\u001b[0m\u001b[0m\n\u001b[1;32m      7\u001b[0m \u001b[0;34m\u001b[0m\u001b[0m\n",
            "\u001b[0;31mModuleNotFoundError\u001b[0m: No module named 'pydub'",
            "",
            "\u001b[0;31m---------------------------------------------------------------------------\u001b[0;32m\nNOTE: If your import is failing due to a missing package, you can\nmanually install dependencies using either !pip or !apt.\n\nTo view examples of installing some common dependencies, click the\n\"Open Examples\" button below.\n\u001b[0;31m---------------------------------------------------------------------------\u001b[0m\n"
          ],
          "errorDetails": {
            "actions": [
              {
                "action": "open_url",
                "actionText": "Open Examples",
                "url": "/notebooks/snippets/importing_libraries.ipynb"
              }
            ]
          }
        }
      ],
      "source": [
        "import os\n",
        "import glob\n",
        "import json\n",
        "import torch\n",
        "from pydub import AudioSegment\n",
        "from transformers import AutoModelForSpeechSeq2Seq, AutoProcessor, pipeline\n",
        "\n",
        "# ------------------------------------------------------\n",
        "# 2) 장치 및 모델 설정\n",
        "# ------------------------------------------------------\n",
        "device_str = \"cuda:0\" if torch.cuda.is_available() else \"cpu\"\n",
        "torch_dtype = torch.float16 if torch.cuda.is_available() else torch.float32\n",
        "model_id = \"openai/whisper-large-v3\"\n",
        "\n",
        "model = AutoModelForSpeechSeq2Seq.from_pretrained(\n",
        "    model_id,\n",
        "    torch_dtype=torch_dtype,\n",
        "    low_cpu_mem_usage=True,\n",
        "    use_safetensors=True\n",
        ")\n",
        "model.to(device_str)\n",
        "\n",
        "processor = AutoProcessor.from_pretrained(model_id)\n",
        "\n",
        "pipe = pipeline(\n",
        "    \"automatic-speech-recognition\",\n",
        "    model=model,\n",
        "    tokenizer=processor.tokenizer,\n",
        "    feature_extractor=processor.feature_extractor,\n",
        "    torch_dtype=torch_dtype,\n",
        "    device=0 if torch.cuda.is_available() else -1,\n",
        ")"
      ]
    },
    {
      "cell_type": "code",
      "execution_count": null,
      "metadata": {
        "id": "HbwtPcvpKSpI"
      },
      "outputs": [],
      "source": [
        "import os\n",
        "# ------------------------------------------------------\n",
        "# 1) 경로 설정\n",
        "# ------------------------------------------------------\n",
        "# (예) 음성 파일(.wav)이 위치한 디렉토리\n",
        "audio_dir = \"/content/Mydrive/MyDrive/Jeju_aihub/unzipped\"\n",
        "\n",
        "# (예) JSON 파일(.json)이 위치한 디렉토리\n",
        "json_dir = \"/content/Mydrive/MyDrive/Jeju\"\n",
        "\n",
        "# STT 결과가 포함된 JSON을 저장할 디렉토리\n",
        "output_dir = \"/content/Mydrive/MyDrive/Jeju/output\"\n",
        "os.makedirs(output_dir, exist_ok=True)"
      ]
    },
    {
      "cell_type": "code",
      "execution_count": null,
      "metadata": {
        "id": "PAD-g-it_0oR"
      },
      "outputs": [],
      "source": [
        "%pwd\n",
        "%ls"
      ]
    },
    {
      "cell_type": "code",
      "execution_count": null,
      "metadata": {
        "id": "l0Rpi9mIgT9p"
      },
      "outputs": [],
      "source": [
        "import os\n",
        "import json\n",
        "import shutil\n",
        "from tqdm import tqdm\n",
        "from pydub import AudioSegment\n",
        "\n",
        "# ------------------------------------------------------\n",
        "# 1) 경로 설정\n",
        "# ------------------------------------------------------\n",
        "# (예) 음성 파일(.wav)이 위치한 디렉토리\n",
        "audio_dir = \"/content/Mydrive/MyDrive/Jeju_aihub/unzipped\"\n",
        "\n",
        "# (예) JSON 파일(.json)이 위치한 디렉토리\n",
        "json_dir = \"/content/Mydrive/MyDrive/Jeju\"\n",
        "\n",
        "# STT 결과가 포함된 JSON을 저장할 디렉토리\n",
        "output_dir = \"/content/Mydrive/MyDrive/Jeju/output\"\n",
        "os.makedirs(output_dir, exist_ok=True)\n",
        "\n",
        "# 임시 wav 저장 디렉토리\n",
        "temp_dir = \"temp\"\n",
        "os.makedirs(temp_dir, exist_ok=True)\n",
        "\n",
        "# ------------------------------------------------------\n",
        "# 2) 음성 파일들을 순회하며 STT 수행\n",
        "# ------------------------------------------------------\n",
        "audio_files = sorted(os.listdir(audio_dir))\n",
        "audio_files = [f for f in audio_files if f.endswith(\".wav\")]\n",
        "\n",
        "for wav_file_name in audio_files:\n",
        "    print(f\"Processing file: {wav_file_name}\")  # 현재 처리 중인 wav 파일 출력\n",
        "    wav_path = os.path.join(audio_dir, wav_file_name)\n",
        "    base_name = os.path.splitext(wav_file_name)[0]  # 확장자 제거\n",
        "    json_path = os.path.join(json_dir, base_name + \".json\")\n",
        "\n",
        "    # JSON 파일이 없으면 건너뛰기\n",
        "    if not os.path.exists(json_path):\n",
        "        print(f\"[Warning] JSON not found for {base_name}. Skipping.\")\n",
        "        continue\n",
        "\n",
        "    # JSON 로드\n",
        "    with open(json_path, \"r\", encoding=\"utf-8\") as f:\n",
        "        data = json.load(f)\n",
        "\n",
        "    # 음성 파일 로드\n",
        "    audio = AudioSegment.from_wav(wav_path)\n",
        "\n",
        "    temp_wav_list = []\n",
        "\n",
        "    # 각 발화 구간별로 오디오를 자르고 STT 수행 준비\n",
        "    for utt in data.get(\"utterance\", []):\n",
        "        start_sec = float(utt[\"start\"])\n",
        "        end_sec = float(utt[\"end\"])\n",
        "\n",
        "        # pydub은 밀리초 단위 사용\n",
        "        start_ms = int(start_sec * 1000)\n",
        "        end_ms = int(end_sec * 1000)\n",
        "\n",
        "        # 구간 추출\n",
        "        segment = audio[start_ms:end_ms]\n",
        "\n",
        "        # 임시 WAV 파일로 저장\n",
        "        temp_wav_path = os.path.join(temp_dir, f\"{base_name}_{utt['id']}.wav\")\n",
        "        segment.export(temp_wav_path, format=\"wav\")\n",
        "        temp_wav_list.append(temp_wav_path)\n",
        "\n",
        "    # Whisper STT 수행\n",
        "    batch_size = 32\n",
        "    recognized_text = []\n",
        "\n",
        "    for i in tqdm(range(0, len(temp_wav_list), batch_size), total=(len(temp_wav_list) + batch_size - 1) // batch_size):\n",
        "        try:\n",
        "            stt_result = pipe(temp_wav_list[i:min(i+batch_size, len(temp_wav_list))], batch_size=batch_size)\n",
        "            recognized_text += [data['text'] for data in stt_result]\n",
        "        except Exception as e:\n",
        "            recognized_text += ['NULL'] * (min(i+batch_size, len(temp_wav_list)) - i)\n",
        "            print(f\"[Error] STT failed for batch {i}: {e}\")\n",
        "\n",
        "    # STT 결과를 JSON에 추가\n",
        "    assert len(data.get(\"utterance\", [])) == len(recognized_text), \"Mismatch between utterances and STT results.\"\n",
        "    for i, utt in enumerate(data.get(\"utterance\", [])):\n",
        "        utt[\"whisper_form\"] = recognized_text[i]\n",
        "\n",
        "    # 결과 JSON 저장\n",
        "    output_json_path = os.path.join(output_dir, base_name + \"_with_stt.json\")\n",
        "    with open(output_json_path, \"w\", encoding=\"utf-8\") as f:\n",
        "        json.dump(data, f, ensure_ascii=False, indent=4)\n",
        "\n",
        "    print(f\"Saved STT results to {output_json_path}\")\n",
        "\n",
        "    # 임시 파일 제거\n",
        "    shutil.rmtree(temp_dir)\n",
        "    os.makedirs(temp_dir, exist_ok=True)\n"
      ]
    }
  ],
  "metadata": {
    "colab": {
      "provenance": []
    },
    "kernelspec": {
      "display_name": "Python 3",
      "name": "python3"
    },
    "language_info": {
      "name": "python"
    }
  },
  "nbformat": 4,
  "nbformat_minor": 0
}